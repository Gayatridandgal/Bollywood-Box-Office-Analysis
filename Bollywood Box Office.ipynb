{
 "cells": [
  {
   "cell_type": "markdown",
   "id": "08b888d9",
   "metadata": {},
   "source": [
    "# BOLLYWOOD BOX OFFICE ANALYSIS\n",
    "\n",
    "\n",
    "### SOURCE: Kaggle\n",
    "###### LINK : https://www.kaggle.com/datasets/sugandhkhobragade/bollywood-box-office-20172020?resource=download&select=bollywood_box_clean.csv"
   ]
  },
  {
   "cell_type": "code",
   "execution_count": 37,
   "id": "d3075c63",
   "metadata": {},
   "outputs": [],
   "source": [
    "import pandas as pd\n",
    "import numpy as np\n",
    "import matplotlib.pyplot as plt\n",
    "import seaborn as sns\n",
    "data=pd.read_csv(r\"C:\\Users\\Acer\\ME\\box_office.csv\")"
   ]
  },
  {
   "cell_type": "code",
   "execution_count": 38,
   "id": "66a5343f",
   "metadata": {},
   "outputs": [
    {
     "data": {
      "text/html": [
       "<div>\n",
       "<style scoped>\n",
       "    .dataframe tbody tr th:only-of-type {\n",
       "        vertical-align: middle;\n",
       "    }\n",
       "\n",
       "    .dataframe tbody tr th {\n",
       "        vertical-align: top;\n",
       "    }\n",
       "\n",
       "    .dataframe thead th {\n",
       "        text-align: right;\n",
       "    }\n",
       "</style>\n",
       "<table border=\"1\" class=\"dataframe\">\n",
       "  <thead>\n",
       "    <tr style=\"text-align: right;\">\n",
       "      <th></th>\n",
       "      <th>movie_name</th>\n",
       "      <th>movie_opening</th>\n",
       "      <th>movie_weekend</th>\n",
       "      <th>movie_firstweek</th>\n",
       "      <th>movie_total</th>\n",
       "      <th>movie_total_worldwide</th>\n",
       "      <th>movie_genre</th>\n",
       "      <th>movie_director</th>\n",
       "      <th>release_date</th>\n",
       "      <th>release_day</th>\n",
       "      <th>release_month</th>\n",
       "      <th>release_year</th>\n",
       "      <th>runtime</th>\n",
       "      <th>producer</th>\n",
       "      <th>banner</th>\n",
       "      <th>actors</th>\n",
       "      <th>movie_details</th>\n",
       "    </tr>\n",
       "  </thead>\n",
       "  <tbody>\n",
       "    <tr>\n",
       "      <th>0</th>\n",
       "      <td>Angrezi Medium</td>\n",
       "      <td>4.03</td>\n",
       "      <td>9.03</td>\n",
       "      <td>9.36</td>\n",
       "      <td>9.36</td>\n",
       "      <td>13.50</td>\n",
       "      <td>Drama, Comedy</td>\n",
       "      <td>Homi Adajania</td>\n",
       "      <td>13 March, 2020</td>\n",
       "      <td>13</td>\n",
       "      <td>Mar</td>\n",
       "      <td>2020</td>\n",
       "      <td>145</td>\n",
       "      <td>Dinesh Vijan , Jyoti Deshpande</td>\n",
       "      <td>Maddock Films, Jio Studios</td>\n",
       "      <td>Irrfan Khan , Radhika Madan, Kareena Kapoor</td>\n",
       "      <td>When his daughter decides to further her studi...</td>\n",
       "    </tr>\n",
       "    <tr>\n",
       "      <th>1</th>\n",
       "      <td>Baaghi 3</td>\n",
       "      <td>17.50</td>\n",
       "      <td>53.83</td>\n",
       "      <td>90.67</td>\n",
       "      <td>93.37</td>\n",
       "      <td>137.00</td>\n",
       "      <td>Action</td>\n",
       "      <td>Ahmed Khan</td>\n",
       "      <td>06 March, 2020</td>\n",
       "      <td>6</td>\n",
       "      <td>Mar</td>\n",
       "      <td>2020</td>\n",
       "      <td>147</td>\n",
       "      <td>Sajid Nadiadwala</td>\n",
       "      <td>Nadiadwala Grandson Entertainment, Fox Star S...</td>\n",
       "      <td>Tiger Shroff , Shraddha Kapoor, Riteish Deshmukh</td>\n",
       "      <td>A man embarks on a bloody rampage to save his ...</td>\n",
       "    </tr>\n",
       "    <tr>\n",
       "      <th>2</th>\n",
       "      <td>Thappad</td>\n",
       "      <td>3.07</td>\n",
       "      <td>14.66</td>\n",
       "      <td>22.79</td>\n",
       "      <td>30.61</td>\n",
       "      <td>44.50</td>\n",
       "      <td>Drama, Social</td>\n",
       "      <td>Anubhav Sinha</td>\n",
       "      <td>28 February, 2020</td>\n",
       "      <td>28</td>\n",
       "      <td>Feb</td>\n",
       "      <td>2020</td>\n",
       "      <td>142</td>\n",
       "      <td>Bhushan Kumar , Krishan Kumar, Anubhav Sinha</td>\n",
       "      <td>Benaras Media Works, T-Series Super Cassettes...</td>\n",
       "      <td>Taapsee Pannu , Pavail Gulati, Dia Mirza</td>\n",
       "      <td>Thappad is a story of Amrita whose seemingly p...</td>\n",
       "    </tr>\n",
       "    <tr>\n",
       "      <th>3</th>\n",
       "      <td>Shubh Mangal Zyada Saavdhan</td>\n",
       "      <td>9.55</td>\n",
       "      <td>32.66</td>\n",
       "      <td>44.84</td>\n",
       "      <td>62.78</td>\n",
       "      <td>86.39</td>\n",
       "      <td>Comedy, Romance</td>\n",
       "      <td>Hitesh Kewalya</td>\n",
       "      <td>21 February, 2020</td>\n",
       "      <td>21</td>\n",
       "      <td>Feb</td>\n",
       "      <td>2020</td>\n",
       "      <td>120</td>\n",
       "      <td>Aanand L Rai , Himanshu Sharma, Bhushan Kumar</td>\n",
       "      <td>Colour Yellow Productions Pvt Ltd, T-Series S...</td>\n",
       "      <td>Ayushman Khurana , Jitendra Kumar, Gajraj Rao</td>\n",
       "      <td>The road to achieving a happy ending is a litt...</td>\n",
       "    </tr>\n",
       "    <tr>\n",
       "      <th>4</th>\n",
       "      <td>Bhoot: Part One - The Haunted Ship</td>\n",
       "      <td>5.10</td>\n",
       "      <td>16.36</td>\n",
       "      <td>24.18</td>\n",
       "      <td>31.97</td>\n",
       "      <td>40.94</td>\n",
       "      <td>Horror</td>\n",
       "      <td>Bhanu Pratap Singh</td>\n",
       "      <td>21 February, 2020</td>\n",
       "      <td>21</td>\n",
       "      <td>Feb</td>\n",
       "      <td>2020</td>\n",
       "      <td>117</td>\n",
       "      <td>Hiroo Johar , Karan Johar, Apoorva Mehta</td>\n",
       "      <td>Dharma Productions, Zee Studios</td>\n",
       "      <td>Vicky Kaushal , Bhumi Pednekar, Ashutosh Rana</td>\n",
       "      <td>A couple is trapped on an abandoned ship lying...</td>\n",
       "    </tr>\n",
       "  </tbody>\n",
       "</table>\n",
       "</div>"
      ],
      "text/plain": [
       "                           movie_name  movie_opening  movie_weekend  \\\n",
       "0                      Angrezi Medium           4.03           9.03   \n",
       "1                            Baaghi 3          17.50          53.83   \n",
       "2                             Thappad           3.07          14.66   \n",
       "3         Shubh Mangal Zyada Saavdhan           9.55          32.66   \n",
       "4  Bhoot: Part One - The Haunted Ship           5.10          16.36   \n",
       "\n",
       "   movie_firstweek  movie_total  movie_total_worldwide      movie_genre  \\\n",
       "0             9.36         9.36                  13.50    Drama, Comedy   \n",
       "1            90.67        93.37                 137.00           Action   \n",
       "2            22.79        30.61                  44.50    Drama, Social   \n",
       "3            44.84        62.78                  86.39  Comedy, Romance   \n",
       "4            24.18        31.97                  40.94           Horror   \n",
       "\n",
       "       movie_director        release_date  release_day release_month  \\\n",
       "0       Homi Adajania     13 March, 2020            13           Mar   \n",
       "1          Ahmed Khan     06 March, 2020             6           Mar   \n",
       "2       Anubhav Sinha  28 February, 2020            28           Feb   \n",
       "3      Hitesh Kewalya  21 February, 2020            21           Feb   \n",
       "4  Bhanu Pratap Singh  21 February, 2020            21           Feb   \n",
       "\n",
       "   release_year  runtime                                        producer  \\\n",
       "0          2020      145                  Dinesh Vijan , Jyoti Deshpande   \n",
       "1          2020      147                                Sajid Nadiadwala   \n",
       "2          2020      142    Bhushan Kumar , Krishan Kumar, Anubhav Sinha   \n",
       "3          2020      120   Aanand L Rai , Himanshu Sharma, Bhushan Kumar   \n",
       "4          2020      117        Hiroo Johar , Karan Johar, Apoorva Mehta   \n",
       "\n",
       "                                              banner  \\\n",
       "0                         Maddock Films, Jio Studios   \n",
       "1   Nadiadwala Grandson Entertainment, Fox Star S...   \n",
       "2   Benaras Media Works, T-Series Super Cassettes...   \n",
       "3   Colour Yellow Productions Pvt Ltd, T-Series S...   \n",
       "4                    Dharma Productions, Zee Studios   \n",
       "\n",
       "                                              actors  \\\n",
       "0        Irrfan Khan , Radhika Madan, Kareena Kapoor   \n",
       "1   Tiger Shroff , Shraddha Kapoor, Riteish Deshmukh   \n",
       "2           Taapsee Pannu , Pavail Gulati, Dia Mirza   \n",
       "3      Ayushman Khurana , Jitendra Kumar, Gajraj Rao   \n",
       "4      Vicky Kaushal , Bhumi Pednekar, Ashutosh Rana   \n",
       "\n",
       "                                       movie_details  \n",
       "0  When his daughter decides to further her studi...  \n",
       "1  A man embarks on a bloody rampage to save his ...  \n",
       "2  Thappad is a story of Amrita whose seemingly p...  \n",
       "3  The road to achieving a happy ending is a litt...  \n",
       "4  A couple is trapped on an abandoned ship lying...  "
      ]
     },
     "execution_count": 38,
     "metadata": {},
     "output_type": "execute_result"
    }
   ],
   "source": [
    "data.head(5)"
   ]
  },
  {
   "cell_type": "code",
   "execution_count": 39,
   "id": "56615350",
   "metadata": {},
   "outputs": [
    {
     "data": {
      "text/html": [
       "<div>\n",
       "<style scoped>\n",
       "    .dataframe tbody tr th:only-of-type {\n",
       "        vertical-align: middle;\n",
       "    }\n",
       "\n",
       "    .dataframe tbody tr th {\n",
       "        vertical-align: top;\n",
       "    }\n",
       "\n",
       "    .dataframe thead th {\n",
       "        text-align: right;\n",
       "    }\n",
       "</style>\n",
       "<table border=\"1\" class=\"dataframe\">\n",
       "  <thead>\n",
       "    <tr style=\"text-align: right;\">\n",
       "      <th></th>\n",
       "      <th>movie_opening</th>\n",
       "      <th>movie_weekend</th>\n",
       "      <th>movie_firstweek</th>\n",
       "      <th>movie_total</th>\n",
       "      <th>movie_total_worldwide</th>\n",
       "      <th>release_day</th>\n",
       "      <th>release_year</th>\n",
       "      <th>runtime</th>\n",
       "    </tr>\n",
       "  </thead>\n",
       "  <tbody>\n",
       "    <tr>\n",
       "      <th>count</th>\n",
       "      <td>130.000000</td>\n",
       "      <td>130.000000</td>\n",
       "      <td>130.000000</td>\n",
       "      <td>130.000000</td>\n",
       "      <td>130.000000</td>\n",
       "      <td>130.000000</td>\n",
       "      <td>130.000000</td>\n",
       "      <td>130.000000</td>\n",
       "    </tr>\n",
       "    <tr>\n",
       "      <th>mean</th>\n",
       "      <td>8.753462</td>\n",
       "      <td>31.418923</td>\n",
       "      <td>48.153308</td>\n",
       "      <td>71.829769</td>\n",
       "      <td>108.331462</td>\n",
       "      <td>15.500000</td>\n",
       "      <td>2018.453846</td>\n",
       "      <td>136.692308</td>\n",
       "    </tr>\n",
       "    <tr>\n",
       "      <th>std</th>\n",
       "      <td>10.230670</td>\n",
       "      <td>32.925684</td>\n",
       "      <td>49.600669</td>\n",
       "      <td>78.639979</td>\n",
       "      <td>133.386554</td>\n",
       "      <td>8.628643</td>\n",
       "      <td>0.845522</td>\n",
       "      <td>16.649532</td>\n",
       "    </tr>\n",
       "    <tr>\n",
       "      <th>min</th>\n",
       "      <td>0.250000</td>\n",
       "      <td>0.000000</td>\n",
       "      <td>0.000000</td>\n",
       "      <td>0.000000</td>\n",
       "      <td>0.000000</td>\n",
       "      <td>1.000000</td>\n",
       "      <td>2017.000000</td>\n",
       "      <td>93.000000</td>\n",
       "    </tr>\n",
       "    <tr>\n",
       "      <th>25%</th>\n",
       "      <td>2.100000</td>\n",
       "      <td>8.182500</td>\n",
       "      <td>11.605000</td>\n",
       "      <td>14.027500</td>\n",
       "      <td>16.962500</td>\n",
       "      <td>8.000000</td>\n",
       "      <td>2018.000000</td>\n",
       "      <td>124.250000</td>\n",
       "    </tr>\n",
       "    <tr>\n",
       "      <th>50%</th>\n",
       "      <td>4.755000</td>\n",
       "      <td>18.240000</td>\n",
       "      <td>28.215000</td>\n",
       "      <td>36.900000</td>\n",
       "      <td>52.965000</td>\n",
       "      <td>15.000000</td>\n",
       "      <td>2018.000000</td>\n",
       "      <td>137.000000</td>\n",
       "    </tr>\n",
       "    <tr>\n",
       "      <th>75%</th>\n",
       "      <td>10.372500</td>\n",
       "      <td>42.220000</td>\n",
       "      <td>68.147500</td>\n",
       "      <td>100.120000</td>\n",
       "      <td>147.042500</td>\n",
       "      <td>22.750000</td>\n",
       "      <td>2019.000000</td>\n",
       "      <td>147.750000</td>\n",
       "    </tr>\n",
       "    <tr>\n",
       "      <th>max</th>\n",
       "      <td>53.350000</td>\n",
       "      <td>166.250000</td>\n",
       "      <td>238.350000</td>\n",
       "      <td>341.220000</td>\n",
       "      <td>585.000000</td>\n",
       "      <td>31.000000</td>\n",
       "      <td>2020.000000</td>\n",
       "      <td>175.000000</td>\n",
       "    </tr>\n",
       "  </tbody>\n",
       "</table>\n",
       "</div>"
      ],
      "text/plain": [
       "       movie_opening  movie_weekend  movie_firstweek  movie_total  \\\n",
       "count     130.000000     130.000000       130.000000   130.000000   \n",
       "mean        8.753462      31.418923        48.153308    71.829769   \n",
       "std        10.230670      32.925684        49.600669    78.639979   \n",
       "min         0.250000       0.000000         0.000000     0.000000   \n",
       "25%         2.100000       8.182500        11.605000    14.027500   \n",
       "50%         4.755000      18.240000        28.215000    36.900000   \n",
       "75%        10.372500      42.220000        68.147500   100.120000   \n",
       "max        53.350000     166.250000       238.350000   341.220000   \n",
       "\n",
       "       movie_total_worldwide  release_day  release_year     runtime  \n",
       "count             130.000000   130.000000    130.000000  130.000000  \n",
       "mean              108.331462    15.500000   2018.453846  136.692308  \n",
       "std               133.386554     8.628643      0.845522   16.649532  \n",
       "min                 0.000000     1.000000   2017.000000   93.000000  \n",
       "25%                16.962500     8.000000   2018.000000  124.250000  \n",
       "50%                52.965000    15.000000   2018.000000  137.000000  \n",
       "75%               147.042500    22.750000   2019.000000  147.750000  \n",
       "max               585.000000    31.000000   2020.000000  175.000000  "
      ]
     },
     "execution_count": 39,
     "metadata": {},
     "output_type": "execute_result"
    }
   ],
   "source": [
    "data.describe()"
   ]
  },
  {
   "cell_type": "code",
   "execution_count": 40,
   "id": "40e49f64",
   "metadata": {},
   "outputs": [
    {
     "data": {
      "text/plain": [
       "(130, 17)"
      ]
     },
     "execution_count": 40,
     "metadata": {},
     "output_type": "execute_result"
    }
   ],
   "source": [
    "data.shape"
   ]
  },
  {
   "cell_type": "code",
   "execution_count": 41,
   "id": "ced49887",
   "metadata": {},
   "outputs": [
    {
     "data": {
      "text/plain": [
       "movie_name                object\n",
       "movie_opening            float64\n",
       "movie_weekend            float64\n",
       "movie_firstweek          float64\n",
       "movie_total              float64\n",
       "movie_total_worldwide    float64\n",
       "movie_genre               object\n",
       "movie_director            object\n",
       "release_date              object\n",
       "release_day                int64\n",
       "release_month             object\n",
       "release_year               int64\n",
       "runtime                    int64\n",
       "producer                  object\n",
       "banner                    object\n",
       "actors                    object\n",
       "movie_details             object\n",
       "dtype: object"
      ]
     },
     "execution_count": 41,
     "metadata": {},
     "output_type": "execute_result"
    }
   ],
   "source": [
    "data.dtypes"
   ]
  },
  {
   "cell_type": "code",
   "execution_count": 42,
   "id": "cd2bfcee",
   "metadata": {},
   "outputs": [
    {
     "data": {
      "text/plain": [
       "movie_name                0\n",
       "movie_opening             0\n",
       "movie_weekend             0\n",
       "movie_firstweek           0\n",
       "movie_total               0\n",
       "movie_total_worldwide     0\n",
       "movie_genre               1\n",
       "movie_director            0\n",
       "release_date              0\n",
       "release_day               0\n",
       "release_month             0\n",
       "release_year              0\n",
       "runtime                   0\n",
       "producer                  1\n",
       "banner                    0\n",
       "actors                    4\n",
       "movie_details            11\n",
       "dtype: int64"
      ]
     },
     "execution_count": 42,
     "metadata": {},
     "output_type": "execute_result"
    }
   ],
   "source": [
    "data.isnull().sum()"
   ]
  },
  {
   "cell_type": "code",
   "execution_count": 43,
   "id": "296bebf5",
   "metadata": {},
   "outputs": [
    {
     "data": {
      "text/plain": [
       "movie_name               0\n",
       "movie_opening            0\n",
       "movie_weekend            0\n",
       "movie_firstweek          0\n",
       "movie_total              0\n",
       "movie_total_worldwide    0\n",
       "movie_genre              0\n",
       "movie_director           0\n",
       "release_date             0\n",
       "release_day              0\n",
       "release_month            0\n",
       "release_year             0\n",
       "runtime                  0\n",
       "producer                 0\n",
       "banner                   0\n",
       "actors                   0\n",
       "movie_details            0\n",
       "dtype: int64"
      ]
     },
     "execution_count": 43,
     "metadata": {},
     "output_type": "execute_result"
    }
   ],
   "source": [
    "data = data.dropna()\n",
    "data.isnull().sum()"
   ]
  },
  {
   "cell_type": "code",
   "execution_count": 44,
   "id": "28b701ff",
   "metadata": {},
   "outputs": [
    {
     "data": {
      "text/plain": [
       "(118, 17)"
      ]
     },
     "execution_count": 44,
     "metadata": {},
     "output_type": "execute_result"
    }
   ],
   "source": [
    "data.shape"
   ]
  },
  {
   "cell_type": "code",
   "execution_count": 52,
   "id": "e7420965",
   "metadata": {},
   "outputs": [],
   "source": [
    "df=data.copy()"
   ]
  },
  {
   "cell_type": "code",
   "execution_count": 53,
   "id": "cbede1ed",
   "metadata": {},
   "outputs": [],
   "source": [
    "# Creating a dictionary with movie names and their respective budgets (in crore INR)\n",
    "movie_budgets = {\n",
    "    \"Angrezi Medium\": 36, \"Baaghi 3\": 85, \"Thappad\": 30, \"Shubh Mangal Zyada Saavdhan\": 60,\n",
    "    \"Bhoot: Part One - The Haunted Ship\": 30, \"Love Aaj Kal\": 40, \"Malang\": 60, \"Shikara\": 15,\n",
    "    \"Jawaani Jaaneman\": 40, \"Panga\": 25, \"Street Dancer 3D\": 100, \"Tanhaji: The Unsung Warrior\": 125,\n",
    "    \"Chhapaak\": 35, \"Good Newwz\": 60, \"Dabangg 3\": 100, \"Mardaani 2\": 25, \"Pati Patni Aur Woh\": 30,\n",
    "    \"Panipat\": 92, \"Commando 3\": 35, \"Marjaavaan\": 38, \"Bala\": 27, \"Ujda Chaman\": 10,\n",
    "    \"Housefull 4\": 75, \"Saand Ki Aankh\": 30, \"The Sky Is Pink\": 24, \"Sye Raa Narasimha Reddy\": 200,\n",
    "    \"War\": 200, \"Pal Pal Dil Ke Paas\": 60, \"Section 375\": 20, \"Dream Girl\": 30, \"Chhichhore\": 50,\n",
    "    \"Saaho\": 350, \"Batla House\": 47, \"Mission Mangal\": 32, \"Jabariya Jodi\": 29, \"Judgemental Hai Kya\": 35,\n",
    "    \"Super 30\": 115, \"Article 15\": 30, \"Kabir Singh\": 60, \"Game Over\": 30, \"Bharat\": 100,\n",
    "    \"PM Narendra Modi\": 8, \"India's Most Wanted\": 18, \"De De Pyaar De\": 75, \"Student Of The Year 2\": 65,\n",
    "    \"Blank\": 20, \"Kalank\": 150, \"The Tashkent Files\": 8, \"Romeo Akbar Walter\": 35, \"Junglee\": 45,\n",
    "    \"Kesari\": 80, \"Badla\": 10, \"Luka Chuppi\": 25, \"Sonchiriya\": 30, \"Total Dhamaal\": 100,\n",
    "    \"Gully Boy\": 84, \"Amavas\": 10, \"Ek Ladki Ko Dekha Toh Aisa Laga\": 30, \"Manikarnika: The Queen Of Jhansi\": 125,\n",
    "    \"Thackeray\": 30, \"Why Cheat India\": 27, \"The Accidental Prime Minister\": 30, \"Uri: The Surgical Strike\": 45,\n",
    "    \"Simmba\": 80, \"KGF\": 80, \"Zero\": 200, \"Kedarnath\": 60, \"2\": 550, \"Bhaiaji Superhittt\": 30,\n",
    "    \"Pihu\": 2, \"Mohalla Assi\": 8, \"Thugs Of Hindostan\": 300, \"Baazaar\": 30, \"Badhaai Ho\": 29,\n",
    "    \"Tumbbad\": 50, \"AndhaDhun\": 32\n",
    "}\n",
    "\n",
    "# Map the budget values to the movie names in the dataframe\n",
    "df['budget'] = df['movie_name'].map(movie_budgets)\n",
    "\n",
    "# Save the updated dataframe back to the CSV file\n",
    "df.to_csv('movies_dataset_with_budget.csv', index=False)\n",
    "\n"
   ]
  },
  {
   "cell_type": "code",
   "execution_count": 54,
   "id": "f335959f",
   "metadata": {},
   "outputs": [],
   "source": [
    "# Creating a dictionary with movie names and their respective IMDb ratings\n",
    "imdb_ratings = {\n",
    "    \"Angrezi Medium\": 7.3, \"Baaghi 3\": 2.1, \"Thappad\": 7.9, \"Shubh Mangal Zyada Saavdhan\": 5.9,\n",
    "    \"Bhoot: Part One - The Haunted Ship\": 5.4, \"Love Aaj Kal\": 4.7, \"Malang\": 6.5, \"Shikara\": 7.2,\n",
    "    \"Jawaani Jaaneman\": 6.6, \"Panga\": 6.8, \"Street Dancer 3D\": 3.6, \"Tanhaji: The Unsung Warrior\": 7.6,\n",
    "    \"Chhapaak\": 5.0, \"Good Newwz\": 7.0, \"Dabangg 3\": 3.2, \"Mardaani 2\": 7.4, \"Pati Patni Aur Woh\": 5.7,\n",
    "    \"Panipat\": 5.3, \"Commando 3\": 5.6, \"Marjaavaan\": 3.5, \"Bala\": 7.3, \"Ujda Chaman\": 6.6,\n",
    "    \"Housefull 4\": 3.5, \"Saand Ki Aankh\": 7.7, \"The Sky Is Pink\": 7.6, \"Sye Raa Narasimha Reddy\": 7.4,\n",
    "    \"War\": 6.5, \"Pal Pal Dil Ke Paas\": 4.6, \"Section 375\": 8.1, \"Dream Girl\": 7.0, \"Chhichhore\": 8.2,\n",
    "    \"Saaho\": 5.3, \"Batla House\": 7.2, \"Mission Mangal\": 6.5, \"Jabariya Jodi\": 3.5, \"Judgemental Hai Kya\": 6.0,\n",
    "    \"Super 30\": 8.0, \"Article 15\": 8.2, \"Kabir Singh\": 7.1, \"Game Over\": 7.1, \"Bharat\": 4.9,\n",
    "    \"PM Narendra Modi\": 3.1, \"India's Most Wanted\": 4.5, \"De De Pyaar De\": 6.6, \"Student Of The Year 2\": 2.3,\n",
    "    \"Blank\": 6.0, \"Kalank\": 3.6, \"The Tashkent Files\": 8.0, \"Romeo Akbar Walter\": 6.5, \"Junglee\": 5.4,\n",
    "    \"Kesari\": 7.4, \"Badla\": 7.8, \"Luka Chuppi\": 6.3, \"Sonchiriya\": 7.9, \"Total Dhamaal\": 4.3,\n",
    "    \"Gully Boy\": 8.0, \"Amavas\": 3.0, \"Ek Ladki Ko Dekha Toh Aisa Laga\": 5.6, \"Manikarnika: The Queen Of Jhansi\": 6.4,\n",
    "    \"Thackeray\": 5.2, \"Why Cheat India\": 6.0, \"The Accidental Prime Minister\": 6.1, \"Uri: The Surgical Strike\": 8.2,\n",
    "    \"Simmba\": 6.2, \"KGF\": 8.2, \"Zero\": 5.4, \"Kedarnath\": 6.9, \"2\": 6.4, \"Bhaiaji Superhittt\": 4.1,\n",
    "    \"Pihu\": 6.7, \"Mohalla Assi\": 6.4, \"Thugs Of Hindostan\": 4.0, \"Baazaar\": 6.6, \"Badhaai Ho\": 8.0,\n",
    "    \"Tumbbad\": 8.3, \"AndhaDhun\": 8.2\n",
    "}\n",
    "\n",
    "# Map the IMDb ratings to the movie names in the dataframe\n",
    "df['imdb_rating'] = df['movie_name'].map(imdb_ratings)\n",
    "\n",
    "# Save the updated dataframe back to the CSV file\n",
    "df.to_csv('movies_dataset_with_imdb.csv', index=False)\n",
    "\n"
   ]
  },
  {
   "cell_type": "code",
   "execution_count": 55,
   "id": "4ad1cfca",
   "metadata": {},
   "outputs": [
    {
     "data": {
      "text/plain": [
       "<Axes: >"
      ]
     },
     "execution_count": 55,
     "metadata": {},
     "output_type": "execute_result"
    },
    {
     "data": {
      "image/png": "[encoded data removed]",
      "text/plain": [
       "<Figure size 640x480 with 2 Axes>"
      ]
     },
     "metadata": {},
     "output_type": "display_data"
    }
   ],
   "source": [
    "import seaborn as sns\n",
    "corr = df[['movie_opening','movie_weekend', 'movie_firstweek', 'movie_total','movie_total_worldwide']].corr()\n",
    "sns.heatmap(corr, annot=True)"
   ]
  },
  {
   "cell_type": "code",
   "execution_count": null,
   "id": "8b1ea820",
   "metadata": {},
   "outputs": [],
   "source": []
  },
  {
   "cell_type": "markdown",
   "id": "519ea7bc",
   "metadata": {},
   "source": [
    "### Q1: Top 10 All-Time Gross Collections Movies"
   ]
  },
  {
   "cell_type": "code",
   "execution_count": 77,
   "id": "69f60a60",
   "metadata": {},
   "outputs": [
    {
     "name": "stdout",
     "output_type": "stream",
     "text": [
      "Top 10 All-Time Gross Collections Movies:\n",
      "\n",
      "                      movie_name  movie_total_worldwide\n",
      "109                    Padmaavat                 585.00\n",
      "90                         Sanju                 579.00\n",
      "113              Tiger Zinda Hai                 558.00\n",
      "121             Secret Superstar                 547.00\n",
      "67                             2                 520.00\n",
      "26                           War                 455.00\n",
      "31                         Saaho                 424.00\n",
      "38                   Kabir Singh                 369.58\n",
      "11   Tanhaji: The Unsung Warrior                 341.00\n",
      "63                        Simmba                 317.61\n"
     ]
    },
    {
     "data": {
      "image/png": "[encoded data removed]",
      "text/plain": [
       "<Figure size 800x400 with 1 Axes>"
      ]
     },
     "metadata": {},
     "output_type": "display_data"
    }
   ],
   "source": [
    "top_10_gross = data.sort_values(by='movie_total_worldwide', ascending=False).head(10)\n",
    "print(\"Top 10 All-Time Gross Collections Movies:\\n\")\n",
    "print(top_10_gross[['movie_name', 'movie_total_worldwide']])\n",
    "\n",
    "plt.figure(figsize=(8, 4))\n",
    "sns.barplot(x='movie_total_worldwide', y='movie_name', data=top_10_gross, palette='viridis')\n",
    "\n",
    "plt.title('Top 10 All-Time Gross Collections Movies', fontsize=16)\n",
    "plt.xlabel('Worldwide Gross Collection (in Crores)', fontsize=12)\n",
    "plt.ylabel('Movie Name', fontsize=12)\n",
    "\n",
    "# Display the plot\n",
    "plt.show()"
   ]
  },
  {
   "cell_type": "markdown",
   "id": "2b879bdc",
   "metadata": {},
   "source": [
    "### Q2: Top 10 Big Budget Movies All Time "
   ]
  },
  {
   "cell_type": "code",
   "execution_count": 78,
   "id": "1da26289",
   "metadata": {},
   "outputs": [
    {
     "name": "stdout",
     "output_type": "stream",
     "text": [
      "\n",
      "Top 10 Big Budget Movies All Time:\n",
      "                          movie_name  budget\n",
      "67                                 2   550.0\n",
      "31                             Saaho   350.0\n",
      "71                Thugs Of Hindostan   300.0\n",
      "65                              Zero   200.0\n",
      "26                               War   200.0\n",
      "25           Sye Raa Narasimha Reddy   200.0\n",
      "46                            Kalank   150.0\n",
      "58  Manikarnika: The Queen Of Jhansi   125.0\n",
      "11       Tanhaji: The Unsung Warrior   125.0\n",
      "36                          Super 30   115.0\n"
     ]
    }
   ],
   "source": [
    "top_10_budget = df.sort_values(by='budget', ascending=False).head(10)\n",
    "print(\"\\nTop 10 Big Budget Movies All Time:\")\n",
    "print(top_10_budget[['movie_name', 'budget']])"
   ]
  },
  {
   "cell_type": "markdown",
   "id": "63b114bb",
   "metadata": {},
   "source": [
    "### Q3: Top 5 Grosser of Shahrukh Khan Movies\n"
   ]
  },
  {
   "cell_type": "code",
   "execution_count": 79,
   "id": "4be45f67",
   "metadata": {},
   "outputs": [
    {
     "name": "stdout",
     "output_type": "stream",
     "text": [
      "\n",
      "Top 5 Grosser of Shahrukh Khan Movies:\n",
      "Empty DataFrame\n",
      "Columns: [movie_name, movie_total_worldwide]\n",
      "Index: []\n"
     ]
    }
   ],
   "source": [
    "\n",
    "srk_movies = df[df['actors'].str.contains(\"Shahrukh Khan\", case=False, na=False)]\n",
    "top_5_srk = srk_movies.sort_values(by='movie_total_worldwide', ascending=False).head(5)\n",
    "print(\"\\nTop 5 Grosser of Shahrukh Khan Movies:\")\n",
    "print(top_5_srk[['movie_name', 'movie_total_worldwide']])"
   ]
  },
  {
   "cell_type": "markdown",
   "id": "0108ce9c",
   "metadata": {},
   "source": [
    "### Q4: Top 5 Grosser of Aamir Khan Movies"
   ]
  },
  {
   "cell_type": "code",
   "execution_count": 80,
   "id": "b6c2bcf4",
   "metadata": {},
   "outputs": [
    {
     "name": "stdout",
     "output_type": "stream",
     "text": [
      "\n",
      "Top 5 Grosser of Aamir Khan Movies:\n",
      "            movie_name  movie_total_worldwide\n",
      "71  Thugs Of Hindostan                 251.84\n"
     ]
    }
   ],
   "source": [
    "\n",
    "\n",
    "aamir_movies = df[df['actors'].str.contains(\"Aamir Khan\", case=False, na=False)]\n",
    "top_5_aamir = aamir_movies.sort_values(by='movie_total_worldwide', ascending=False).head(5)\n",
    "print(\"\\nTop 5 Grosser of Aamir Khan Movies:\")\n",
    "print(top_5_aamir[['movie_name', 'movie_total_worldwide']])\n",
    "\n"
   ]
  },
  {
   "cell_type": "markdown",
   "id": "b5122ba4",
   "metadata": {},
   "source": [
    "### Q5: Top 5 Grosser of Salman Khan Movies"
   ]
  },
  {
   "cell_type": "code",
   "execution_count": 81,
   "id": "0f6ddc1b",
   "metadata": {},
   "outputs": [
    {
     "name": "stdout",
     "output_type": "stream",
     "text": [
      "\n",
      "Top 5 Grosser of Salman Khan Movies:\n",
      "          movie_name  movie_total_worldwide\n",
      "113  Tiger Zinda Hai                 558.00\n",
      "40            Bharat                 314.68\n",
      "91            Race 3                 300.04\n",
      "14         Dabangg 3                 212.87\n"
     ]
    }
   ],
   "source": [
    "\n",
    "# Handling NaN values in the 'actors' column with na=False\n",
    "salman_movies = df[df['actors'].str.contains(\"Salman Khan\", case=False, na=False)]\n",
    "\n",
    "# Sorting by 'movie_total_worldwide' and selecting the top 5 grossing movies\n",
    "top_5_salman = salman_movies.sort_values(by='movie_total_worldwide', ascending=False).head(5)\n",
    "\n",
    "# Displaying the top 5 Salman Khan movies\n",
    "print(\"\\nTop 5 Grosser of Salman Khan Movies:\")\n",
    "print(top_5_salman[['movie_name', 'movie_total_worldwide']])\n"
   ]
  },
  {
   "cell_type": "markdown",
   "id": "fe9bc040",
   "metadata": {},
   "source": [
    "### Q6: Highest Grosser of Each Year Since Last Ten Years"
   ]
  },
  {
   "cell_type": "code",
   "execution_count": 82,
   "id": "cafc31e7",
   "metadata": {},
   "outputs": [
    {
     "name": "stdout",
     "output_type": "stream",
     "text": [
      "\n",
      "Highest Grosser of Each Year Since Last Ten Years:\n",
      "                               movie_name  release_year  movie_total_worldwide\n",
      "release_year                                                                  \n",
      "2017                      Tiger Zinda Hai          2017                  558.0\n",
      "2018                            Padmaavat          2018                  585.0\n",
      "2019                                  War          2019                  455.0\n",
      "2020          Tanhaji: The Unsung Warrior          2020                  341.0\n"
     ]
    }
   ],
   "source": [
    "\n",
    "last_10_years = df[df['release_year'] >= (df['release_year'].max() - 10)]\n",
    "highest_gross_year = last_10_years.groupby('release_year').apply(lambda x: x.loc[x['movie_total_worldwide'].idxmax()])\n",
    "print(\"\\nHighest Grosser of Each Year Since Last Ten Years:\")\n",
    "print(highest_gross_year[['movie_name', 'release_year', 'movie_total_worldwide']])\n"
   ]
  },
  {
   "cell_type": "markdown",
   "id": "1b705b31",
   "metadata": {},
   "source": [
    "### Q7: Top 5 Movies with Minimum Budget but More Profit "
   ]
  },
  {
   "cell_type": "code",
   "execution_count": 83,
   "id": "528d9a21",
   "metadata": {},
   "outputs": [
    {
     "name": "stdout",
     "output_type": "stream",
     "text": [
      "\n",
      "Top 5 Movies with Minimum Budget but More Profit:\n",
      "            movie_name  budget  profit\n",
      "69                Pihu     2.0   -2.00\n",
      "41    PM Narendra Modi     8.0   15.00\n",
      "47  The Tashkent Files     8.0   -8.00\n",
      "70        Mohalla Assi     8.0   -8.00\n",
      "51               Badla    10.0  120.12\n"
     ]
    }
   ],
   "source": [
    "\n",
    "df['profit'] = df['movie_total_worldwide'] - df['budget']\n",
    "min_budget_more_profit = df.sort_values(by=['budget', 'profit'], ascending=[True, False]).head(5)\n",
    "print(\"\\nTop 5 Movies with Minimum Budget but More Profit:\")\n",
    "print(min_budget_more_profit[['movie_name', 'budget', 'profit']])"
   ]
  },
  {
   "cell_type": "markdown",
   "id": "6ba1394b",
   "metadata": {},
   "source": [
    "### Q8: Top 10 Movies IMDb  "
   ]
  },
  {
   "cell_type": "code",
   "execution_count": 84,
   "id": "8fed7ecb",
   "metadata": {},
   "outputs": [
    {
     "name": "stdout",
     "output_type": "stream",
     "text": [
      "\n",
      "Top 10 Movies by IMDb Rating:\n",
      "                  movie_name  imdb_rating\n",
      "74                   Tumbbad          8.3\n",
      "37                Article 15          8.2\n",
      "30                Chhichhore          8.2\n",
      "64                       KGF          8.2\n",
      "62  Uri: The Surgical Strike          8.2\n",
      "28               Section 375          8.1\n",
      "36                  Super 30          8.0\n",
      "47        The Tashkent Files          8.0\n",
      "55                 Gully Boy          8.0\n",
      "73                Badhaai Ho          8.0\n"
     ]
    }
   ],
   "source": [
    "\n",
    "top_10_imdb = df.sort_values(by='imdb_rating', ascending=False).head(10)\n",
    "print(\"\\nTop 10 Movies by IMDb Rating:\")\n",
    "print(top_10_imdb[['movie_name', 'imdb_rating']])\n",
    "\n"
   ]
  },
  {
   "cell_type": "markdown",
   "id": "7b6de896",
   "metadata": {},
   "source": [
    "### Q9: Which Movie Genre has More Box Office Collections "
   ]
  },
  {
   "cell_type": "code",
   "execution_count": 89,
   "id": "32856e0f",
   "metadata": {},
   "outputs": [
    {
     "name": "stdout",
     "output_type": "stream",
     "text": [
      "\n",
      "Movie Genre with More Box Office Collections:\n",
      "Series([], Name: movie_total_worldwide, dtype: float64)\n"
     ]
    }
   ],
   "source": [
    "df['movie_genre'] = df['movie_genre'].str.split(',')\n",
    "genre_collections = df.explode('movie_genre').groupby('movie_genre')['movie_total_worldwide'].sum().sort_values(ascending=False)\n",
    "print(\"\\nMovie Genre with More Box Office Collections:\")\n",
    "print(genre_collections.head(1))"
   ]
  },
  {
   "cell_type": "markdown",
   "id": "18195a27",
   "metadata": {},
   "source": [
    "### Q10: Which Movie Genre has Less Box Office Collections "
   ]
  },
  {
   "cell_type": "code",
   "execution_count": 70,
   "id": "46662400",
   "metadata": {},
   "outputs": [
    {
     "name": "stdout",
     "output_type": "stream",
     "text": [
      "\n",
      "Movie Genre with Less Box Office Collections:\n",
      "movie_genre\n",
      " Mystery    0.0\n",
      "Name: movie_total_worldwide, dtype: float64\n"
     ]
    }
   ],
   "source": [
    "print(\"\\nMovie Genre with Less Box Office Collections:\")\n",
    "print(genre_collections.tail(1))"
   ]
  }
 ],
 "metadata": {
  "kernelspec": {
   "display_name": "Python 3 (ipykernel)",
   "language": "python",
   "name": "python3"
  },
  "language_info": {
   "codemirror_mode": {
    "name": "ipython",
    "version": 3
   },
   "file_extension": ".py",
   "mimetype": "text/x-python",
   "name": "python",
   "nbconvert_exporter": "python",
   "pygments_lexer": "ipython3",
   "version": "3.11.5"
  }
 },
 "nbformat": 4,
 "nbformat_minor": 5
}
